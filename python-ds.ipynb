{
 "cells": [
  {
   "cell_type": "markdown",
   "metadata": {},
   "source": [
    "# Web Mining and Applied NLP (44-620)\n",
    "\n",
    "## Python Notebooks, Basics, and Data Structures\n",
    "\n",
    "### Student Name: Branton Dawson_____PROJECT LINK: https://github.com/bjdawson23/python-ds-nb\n",
    "\n",
    "Perform the tasks described in the Markdown cells below.  When you have completed the assignment make sure your code cells have all been run (and have output beneath them) and ensure you have committed and pushed ALL of your changes to your assignment repository.\n",
    "\n",
    "Every question that requires you to write code will have a code cell underneath it; you may either write your entire solution in that cell or write it in a python file (`.py`), then import and run the appropriate code to answer the question.\n",
    "\n",
    "Do not use external modules (`math`, etc) for this assignment unless you are explicitly instructed to, though you may use built in python functions (`min`, `max`, etc) as you wish."
   ]
  },
  {
   "cell_type": "markdown",
   "metadata": {},
   "source": [
    "1. Modify the Markdown cell above to put your name after \"Student Name:\"; you will be expected to do this in all assignments presented in this format for this class."
   ]
  },
  {
   "cell_type": "markdown",
   "metadata": {},
   "source": [
    "2. Write code that divides any two numbers, stores the result in a variable, and prints the result with an appropriate label."
   ]
  },
  {
   "cell_type": "code",
   "execution_count": 10,
   "metadata": {},
   "outputs": [
    {
     "name": "stdout",
     "output_type": "stream",
     "text": [
      "The result of 625 divided by 25 is: 25.0\n"
     ]
    }
   ],
   "source": [
    "# This script performs a simple division operation\n",
    "number = 625 / 25\n",
    "print(\"The result of 625 divided by 25 is:\", number)"
   ]
  },
  {
   "cell_type": "markdown",
   "metadata": {},
   "source": [
    "3. Using loops (and potentially conditionals), write Python code that prints the factorial of each integer from 1 through 10 (which you can store in a variable if you want). The factorial of an integer is the product of all of the integers of 1 through the number. Print the result with an appropriate label."
   ]
  },
  {
   "cell_type": "code",
   "execution_count": 11,
   "metadata": {},
   "outputs": [
    {
     "name": "stdout",
     "output_type": "stream",
     "text": [
      "The factorial of 1 is: 1\n",
      "The factorial of 2 is: 2\n",
      "The factorial of 3 is: 6\n",
      "The factorial of 4 is: 24\n",
      "The factorial of 5 is: 120\n",
      "The factorial of 6 is: 720\n",
      "The factorial of 7 is: 5040\n",
      "The factorial of 8 is: 40320\n",
      "The factorial of 9 is: 362880\n",
      "The factorial of 10 is: 3628800\n"
     ]
    }
   ],
   "source": [
    "# Python code to print factorial of integer 1 through 10\n",
    "def factorial(n):\n",
    "    if n == 0 or n == 1:\n",
    "        return 1\n",
    "    else:\n",
    "        return n * factorial(n - 1)\n",
    "for i in range(1, 11):\n",
    "    print(f\"The factorial of {i} is: {factorial(i)}\")\n",
    "    "
   ]
  },
  {
   "cell_type": "markdown",
   "metadata": {},
   "source": [
    "4. Write a python function that takes a single parameter and calculates and returns the average (mean) of the values in the parameter (which you may assume is iterable).  Show that your function works by printing the result of calling the function on the list in the cell below."
   ]
  },
  {
   "cell_type": "code",
   "execution_count": 12,
   "metadata": {},
   "outputs": [
    {
     "name": "stdout",
     "output_type": "stream",
     "text": [
      "The average of the numbers in testlist is: 0.0\n"
     ]
    }
   ],
   "source": [
    "testlist = [1,-1,2,-2,3,-3,4,-4]\n",
    "# Create a function that calculates the average of iterable numbers in testlist\n",
    "def average(iterable):\n",
    "    if not iterable:\n",
    "        return 0\n",
    "    return sum(iterable) / len(iterable)\n",
    "# Calculate the average of testlist\n",
    "avg = average(testlist)\n",
    "print(f\"The average of the numbers in testlist is: {avg}\")"
   ]
  },
  {
   "cell_type": "markdown",
   "metadata": {},
   "source": [
    "5. Using your mean function above, write a function that calculates the variance of the list of numbers (see https://en.wikipedia.org/wiki/Variance for more information on the formula). In short:\n",
    "* subtract the mean of the elements in the list from every element in the list; store these values in a new list\n",
    "* square every element in the new list and sum the elements together\n",
    "* divide the resulting number by N (where N is the length of the original list)\n",
    "\n",
    "Show the result of calling your function in the lists in the code cell. You must use one or more list comprehensions or map/filter in your code.\n"
   ]
  },
  {
   "cell_type": "code",
   "execution_count": 13,
   "metadata": {},
   "outputs": [
    {
     "name": "stdout",
     "output_type": "stream",
     "text": [
      "The variance of list1 is: 1.13973309\n",
      "The variance of list2 is: 0.9257232841\n"
     ]
    }
   ],
   "source": [
    "list1 = [ 5.670e-1, -1.480e+0, -5.570e-1, -1.470e+0, 7.340e-1, 1.050e+0, 4.480e-1, 2.570e-1, -1.970e+0, -1.460e+0]\n",
    "list2 = [-1.780e+0, 2.640e-1, 1.160e+0, 9.080e-1, 1.780e+0, 1.080e+0, 1.050e+0, -4.630e-2, 1.520e+0, 5.350e-1]\n",
    "# the variances of both lists should be relatively close to 1 (off by less than .15)\n",
    "# Create a function that calculates the variance of iterable numbers in list1 and list2\n",
    "def variance(iterable):\n",
    "    if not iterable:\n",
    "        return 0\n",
    "    mean = sum(iterable) / len(iterable)\n",
    "    return sum((x - mean) ** 2 for x in iterable) / len(iterable)\n",
    "# Calculate the variance of list1 and list2\n",
    "var1 = variance(list1)\n",
    "var2 = variance(list2)\n",
    "print(f\"The variance of list1 is: {var1}\")\n",
    "print(f\"The variance of list2 is: {var2}\")"
   ]
  },
  {
   "cell_type": "markdown",
   "metadata": {},
   "source": [
    "6. Create a list with at least 15 elements in it. Use list slicing to print the following:\n",
    "* The first 5 elements of the list\n",
    "* The last 5 elements of the list\n",
    "* The list reversed (hint, show the entire list with a stride of -1)\n",
    "* Every second element in the list\n",
    "* Every third element in the list (stride of 3)"
   ]
  },
  {
   "cell_type": "code",
   "execution_count": 14,
   "metadata": {},
   "outputs": [
    {
     "name": "stdout",
     "output_type": "stream",
     "text": [
      "The first five colors are: ['red', 'blue', 'green', 'yellow', 'purple']\n",
      "The last five colors are: ['cyan', 'magenta', 'lime', 'teal', 'navy']\n",
      "The colors in reverse order are: ['navy', 'teal', 'lime', 'magenta', 'cyan', 'gray', 'white', 'black', 'brown', 'pink', 'orange', 'purple', 'yellow', 'green', 'blue', 'red']\n",
      "Every second color is: ['red', 'green', 'purple', 'pink', 'black', 'gray', 'magenta', 'teal']\n",
      "Every third color is: ['red', 'yellow', 'pink', 'white', 'magenta', 'navy']\n"
     ]
    }
   ],
   "source": [
    "# List of 15 colors\n",
    "colors = [\"red\", \"blue\", \"green\", \"yellow\", \"purple\", \"orange\", \"pink\", \"brown\", \"black\", \"white\", \"gray\", \"cyan\", \"magenta\", \"lime\", \"teal\", \"navy\"]\n",
    "# Use slicing to print the first 5 colors from the list\n",
    "first_five_colors = colors[:5]\n",
    "print(\"The first five colors are:\", first_five_colors)\n",
    "# Use slicing to print the last 5 colors from the list\n",
    "last_five_colors = colors[-5:]\n",
    "print(\"The last five colors are:\", last_five_colors)\n",
    "# Use slicing to print the colors in reverse order\n",
    "reverse_colors = colors[::-1]\n",
    "print(\"The colors in reverse order are:\", reverse_colors)\n",
    "# Use slicing to print every second color from the list\n",
    "every_second_color = colors[::2]\n",
    "print(\"Every second color is:\", every_second_color)\n",
    "# Use slicing to print every third color from the list\n",
    "every_third_color = colors[::3]\n",
    "print(\"Every third color is:\", every_third_color)\n",
    "\n",
    "\n"
   ]
  },
  {
   "cell_type": "markdown",
   "metadata": {},
   "source": [
    "7. Build a dictionary that contains the following information about this class (with appropriate names as keys):\n",
    "* The name\n",
    "* The course number\n",
    "* The semester/term in which you are taking this course\n",
    "* The number of credit hours this course counts for\n",
    "* A list of the course learning objectives\n",
    "\n",
    "The majority of this information can be found in the syllabus. Print the dictionary."
   ]
  },
  {
   "cell_type": "code",
   "execution_count": 15,
   "metadata": {},
   "outputs": [
    {
     "name": "stdout",
     "output_type": "stream",
     "text": [
      "Course Information:\n",
      "course_name: Web Mining and Applied Natural Language Processing\n",
      "course_number: CSIS 44620-81\n",
      "semester: Summer OP2 2025\n",
      "credit_hours: 3\n",
      "learning_objectives:\n",
      "  - L01. Manage Python libraries and packages\n",
      "  - L02. Interact with Hosted Version Control Systems (e.g. Git and GitHub)\n",
      "  - L03. Programmatically obtain and transform data from web-based APIs and HTML pages into a usable form.\n",
      "  - L04. Describe the steps in a basic Natural Language Processing Pipeline\n",
      "  - L05. Use preexisting tools and software libraries to perform some Natural Language Processing, such as sentiment analysis.\n",
      "  - L06. Explain results and conclusions drawn from the visualized information.\n"
     ]
    }
   ],
   "source": [
    "# Build a dictionary with Course information\n",
    "course_info = {\n",
    "    \"course_name\": \"Web Mining and Applied Natural Language Processing\",\n",
    "    \"course_number\": \"CSIS 44620-81\",\n",
    "    \"semester\": \"Summer OP2 2025\",\n",
    "    \"credit_hours\": 3,\n",
    "    \"learning_objectives\": [\n",
    "        \"L01. Manage Python libraries and packages\",\n",
    "        \"L02. Interact with Hosted Version Control Systems (e.g. Git and GitHub)\",\n",
    "        \"L03. Programmatically obtain and transform data from web-based APIs and HTML pages into a usable form.\",\n",
    "        \"L04. Describe the steps in a basic Natural Language Processing Pipeline\",\n",
    "        \"L05. Use preexisting tools and software libraries to perform some Natural Language Processing, such as sentiment analysis.\",\n",
    "        \"L06. Explain results and conclusions drawn from the visualized information.\"\n",
    "    ]\n",
    "}\n",
    "# Print the course information\n",
    "print(\"Course Information:\")\n",
    "for key, value in course_info.items():\n",
    "    if isinstance(value, list):\n",
    "        print(f\"{key}:\")\n",
    "        for item in value:\n",
    "            print(f\"  - {item}\")\n",
    "    else:\n",
    "        print(f\"{key}: {value}\")"
   ]
  },
  {
   "cell_type": "markdown",
   "metadata": {},
   "source": [
    "8.  Given the dictionary defined in the code cell below, print the list of level 3 spells the character has."
   ]
  },
  {
   "cell_type": "code",
   "execution_count": 16,
   "metadata": {},
   "outputs": [
    {
     "name": "stdout",
     "output_type": "stream",
     "text": [
      "Level 3 Spells:\n",
      "- Mass Healing Word\n",
      "- Nondetection\n",
      "- Revivify\n",
      "- Feign Death\n",
      "- Speak with Dead\n"
     ]
    }
   ],
   "source": [
    "player_character = {'name': 'Kitab',\n",
    "                   'class': [('Cleric: Knowledge', 7)],\n",
    "                   'spells': {'cantrip': ['Guidance', 'Light', 'Thaumaturgy', 'Toll the Dead', 'Word of Radiance'],\n",
    "                             'level 1': ['Command', 'Detect Magic', 'Healing Word', 'Identify', 'Sleep'],\n",
    "                             'level 2': ['Augury', 'Calm Emotions', 'Command', 'Invisibility', 'Lesser Restoration'],\n",
    "                             'level 3': ['Mass Healing Word', 'Nondetection', 'Revivify', 'Feign Death', 'Speak with Dead'],\n",
    "                             'level 4': ['Banishment', 'Confusion']}\n",
    "                   }\n",
    "# Print list of level 3 spells the player character has\n",
    "print(\"Level 3 Spells:\")\n",
    "for spell in player_character['spells']['level 3']:\n",
    "    print(f\"- {spell}\")\n"
   ]
  },
  {
   "cell_type": "markdown",
   "metadata": {},
   "source": [
    "9. Write code to determine the number of unique elements in the list below.  You MUST use a set in finding your solution.  Print the number of unique values in the list with an appropriate label."
   ]
  },
  {
   "cell_type": "code",
   "execution_count": 17,
   "metadata": {},
   "outputs": [
    {
     "name": "stdout",
     "output_type": "stream",
     "text": [
      "Total unique values: 12\n",
      "Unique values in the list are: {0, 1, 5, 6, 7, 8, 9, 10, 11, 12, 13, 15}\n"
     ]
    }
   ],
   "source": [
    "values = [10, 11, 10, 8, 1, 12, 0, 1, 6, 5, 5, 13, 6, 15, 0, 0, 1, 1, 9, 7]\n",
    "# Create a set from the values list to find unique values\n",
    "unique_values = set(values)\n",
    "# Print the total number of unique values\n",
    "print(\"Total unique values:\", len(unique_values))\n",
    "# Print the unique values\n",
    "print(\"Unique values in the list are:\", unique_values)"
   ]
  },
  {
   "cell_type": "markdown",
   "metadata": {},
   "source": [
    "10. Create a new Jupyter Notebook (the name of the notebook should be your S number). Add a Markdown cell that contains your name. Add a Code cell and write Python that uses loops to draw the following pattern:\n",
    "\n",
    "```\n",
    "*      *\n",
    "**    **\n",
    "***  ***\n",
    "********\n",
    "```\n",
    "Make sure to add and submit both the new notebook and the changes to this notebook for this assignment."
   ]
  },
  {
   "cell_type": "markdown",
   "metadata": {},
   "source": [
    "11. Export to HTML format"
   ]
  },
  {
   "cell_type": "code",
   "execution_count": 18,
   "metadata": {},
   "outputs": [
    {
     "data": {
      "text/plain": [
       "0"
      ]
     },
     "execution_count": 18,
     "metadata": {},
     "output_type": "execute_result"
    }
   ],
   "source": [
    "import os\n",
    "os.system('jupyter nbconvert --to html python-ds.ipynb')"
   ]
  }
 ],
 "metadata": {
  "kernelspec": {
   "display_name": ".venv",
   "language": "python",
   "name": "python3"
  },
  "language_info": {
   "codemirror_mode": {
    "name": "ipython",
    "version": 3
   },
   "file_extension": ".py",
   "mimetype": "text/x-python",
   "name": "python",
   "nbconvert_exporter": "python",
   "pygments_lexer": "ipython3",
   "version": "3.13.5"
  }
 },
 "nbformat": 4,
 "nbformat_minor": 4
}
